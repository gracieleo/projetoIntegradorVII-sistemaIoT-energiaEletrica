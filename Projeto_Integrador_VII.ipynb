{
  "nbformat": 4,
  "nbformat_minor": 0,
  "metadata": {
    "colab": {
      "name": "Projeto_Integrador_VII.ipynb",
      "provenance": [],
      "collapsed_sections": [],
      "include_colab_link": true
    },
    "kernelspec": {
      "name": "python3",
      "display_name": "Python 3"
    },
    "language_info": {
      "name": "python"
    }
  },
  "cells": [
    {
      "cell_type": "markdown",
      "metadata": {
        "id": "view-in-github",
        "colab_type": "text"
      },
      "source": [
        "<a href=\"https://colab.research.google.com/github/gracieleo/projetoIntegradorVII-sistemaIoT-energiaEletrica/blob/master/Projeto_Integrador_VII.ipynb\" target=\"_parent\"><img src=\"https://colab.research.google.com/assets/colab-badge.svg\" alt=\"Open In Colab\"/></a>"
      ]
    },
    {
      "cell_type": "markdown",
      "source": [
        "## **Sistema IoT para monitoramento de consumo de energia elétrica** 💡\n",
        "\n",
        "Esse notebook tem como objetivo, fazer uma análise dos dados de medição de energia elétrica coletados no mês de junho/2022, como parte da pesquisa para o Projeto Integrador VII da [UNIVESP](https://univesp.br/).<br/>\n",
        "A base de dados em formato .csv foi lida através do módulo RTC DS1307 e sensores (corrente e tensão) conectados a plataforma Arduíno.<br/>\n",
        "Os dados foram lidos e armazenados no [Clever Cloud](https://www.clever-cloud.com/) (servidor de banco de dados em nuvem) com o banco de dados [MySQL](https://www.mysql.com/).\n"
      ],
      "metadata": {
        "id": "cA0745L1VHgL"
      }
    },
    {
      "cell_type": "markdown",
      "source": [
        "**Visualizando a planilha com os dados coletados a partir da leitura de uma banca de trabalho (com alguns equipamentos conectados) chamada de Desktop**   "
      ],
      "metadata": {
        "id": "BX1tcmhHaUPZ"
      }
    },
    {
      "cell_type": "code",
      "source": [
        "import numpy as np\n",
        "import matplotlib.pyplot as plt\n",
        "import pandas as pd\n",
        "import csv"
      ],
      "metadata": {
        "id": "Uge9UlKiZDfa"
      },
      "execution_count": null,
      "outputs": []
    },
    {
      "cell_type": "code",
      "source": [
        "leitura_energia = pd.read_csv('sample_data/ENERGIA.csv', sep= ';')\n",
        "leitura_energia"
      ],
      "metadata": {
        "id": "acN4ZkgjaAz2",
        "colab": {
          "base_uri": "https://localhost:8080/",
          "height": 424
        },
        "outputId": "0242caac-839d-4eda-b0e0-86bb250c496b"
      },
      "execution_count": null,
      "outputs": [
        {
          "output_type": "execute_result",
          "data": {
            "text/plain": [
              "    EQUIPAMENTO  CORRENTE  TENSAO  POTENCIA         DATA_HORA\n",
              "0       DESKTOP       1.1   111.7     128.3  28/06/2022 02:47\n",
              "1       DESKTOP       1.1   107.2     121.4  28/06/2022 02:47\n",
              "2       DESKTOP       1.2   111.1     134.2  28/06/2022 02:48\n",
              "3       DESKTOP       1.2   112.3     137.9  28/06/2022 02:48\n",
              "4       DESKTOP       1.1   109.9     124.4  28/06/2022 02:48\n",
              "..          ...       ...     ...       ...               ...\n",
              "443     DESKTOP       1.1    98.6     108.6  30/06/2022 23:48\n",
              "444     DESKTOP       1.1    95.9     107.1  30/06/2022 23:49\n",
              "445     DESKTOP       1.1   100.1     106.2  30/06/2022 23:49\n",
              "446     DESKTOP       1.1    95.4     103.2  30/06/2022 23:49\n",
              "447     DESKTOP       1.1    99.4     113.5  30/06/2022 23:50\n",
              "\n",
              "[448 rows x 5 columns]"
            ],
            "text/html": [
              "\n",
              "  <div id=\"df-f9222bcd-139b-4116-a584-5397d1a2a4fd\">\n",
              "    <div class=\"colab-df-container\">\n",
              "      <div>\n",
              "<style scoped>\n",
              "    .dataframe tbody tr th:only-of-type {\n",
              "        vertical-align: middle;\n",
              "    }\n",
              "\n",
              "    .dataframe tbody tr th {\n",
              "        vertical-align: top;\n",
              "    }\n",
              "\n",
              "    .dataframe thead th {\n",
              "        text-align: right;\n",
              "    }\n",
              "</style>\n",
              "<table border=\"1\" class=\"dataframe\">\n",
              "  <thead>\n",
              "    <tr style=\"text-align: right;\">\n",
              "      <th></th>\n",
              "      <th>EQUIPAMENTO</th>\n",
              "      <th>CORRENTE</th>\n",
              "      <th>TENSAO</th>\n",
              "      <th>POTENCIA</th>\n",
              "      <th>DATA_HORA</th>\n",
              "    </tr>\n",
              "  </thead>\n",
              "  <tbody>\n",
              "    <tr>\n",
              "      <th>0</th>\n",
              "      <td>DESKTOP</td>\n",
              "      <td>1.1</td>\n",
              "      <td>111.7</td>\n",
              "      <td>128.3</td>\n",
              "      <td>28/06/2022 02:47</td>\n",
              "    </tr>\n",
              "    <tr>\n",
              "      <th>1</th>\n",
              "      <td>DESKTOP</td>\n",
              "      <td>1.1</td>\n",
              "      <td>107.2</td>\n",
              "      <td>121.4</td>\n",
              "      <td>28/06/2022 02:47</td>\n",
              "    </tr>\n",
              "    <tr>\n",
              "      <th>2</th>\n",
              "      <td>DESKTOP</td>\n",
              "      <td>1.2</td>\n",
              "      <td>111.1</td>\n",
              "      <td>134.2</td>\n",
              "      <td>28/06/2022 02:48</td>\n",
              "    </tr>\n",
              "    <tr>\n",
              "      <th>3</th>\n",
              "      <td>DESKTOP</td>\n",
              "      <td>1.2</td>\n",
              "      <td>112.3</td>\n",
              "      <td>137.9</td>\n",
              "      <td>28/06/2022 02:48</td>\n",
              "    </tr>\n",
              "    <tr>\n",
              "      <th>4</th>\n",
              "      <td>DESKTOP</td>\n",
              "      <td>1.1</td>\n",
              "      <td>109.9</td>\n",
              "      <td>124.4</td>\n",
              "      <td>28/06/2022 02:48</td>\n",
              "    </tr>\n",
              "    <tr>\n",
              "      <th>...</th>\n",
              "      <td>...</td>\n",
              "      <td>...</td>\n",
              "      <td>...</td>\n",
              "      <td>...</td>\n",
              "      <td>...</td>\n",
              "    </tr>\n",
              "    <tr>\n",
              "      <th>443</th>\n",
              "      <td>DESKTOP</td>\n",
              "      <td>1.1</td>\n",
              "      <td>98.6</td>\n",
              "      <td>108.6</td>\n",
              "      <td>30/06/2022 23:48</td>\n",
              "    </tr>\n",
              "    <tr>\n",
              "      <th>444</th>\n",
              "      <td>DESKTOP</td>\n",
              "      <td>1.1</td>\n",
              "      <td>95.9</td>\n",
              "      <td>107.1</td>\n",
              "      <td>30/06/2022 23:49</td>\n",
              "    </tr>\n",
              "    <tr>\n",
              "      <th>445</th>\n",
              "      <td>DESKTOP</td>\n",
              "      <td>1.1</td>\n",
              "      <td>100.1</td>\n",
              "      <td>106.2</td>\n",
              "      <td>30/06/2022 23:49</td>\n",
              "    </tr>\n",
              "    <tr>\n",
              "      <th>446</th>\n",
              "      <td>DESKTOP</td>\n",
              "      <td>1.1</td>\n",
              "      <td>95.4</td>\n",
              "      <td>103.2</td>\n",
              "      <td>30/06/2022 23:49</td>\n",
              "    </tr>\n",
              "    <tr>\n",
              "      <th>447</th>\n",
              "      <td>DESKTOP</td>\n",
              "      <td>1.1</td>\n",
              "      <td>99.4</td>\n",
              "      <td>113.5</td>\n",
              "      <td>30/06/2022 23:50</td>\n",
              "    </tr>\n",
              "  </tbody>\n",
              "</table>\n",
              "<p>448 rows × 5 columns</p>\n",
              "</div>\n",
              "      <button class=\"colab-df-convert\" onclick=\"convertToInteractive('df-f9222bcd-139b-4116-a584-5397d1a2a4fd')\"\n",
              "              title=\"Convert this dataframe to an interactive table.\"\n",
              "              style=\"display:none;\">\n",
              "        \n",
              "  <svg xmlns=\"http://www.w3.org/2000/svg\" height=\"24px\"viewBox=\"0 0 24 24\"\n",
              "       width=\"24px\">\n",
              "    <path d=\"M0 0h24v24H0V0z\" fill=\"none\"/>\n",
              "    <path d=\"M18.56 5.44l.94 2.06.94-2.06 2.06-.94-2.06-.94-.94-2.06-.94 2.06-2.06.94zm-11 1L8.5 8.5l.94-2.06 2.06-.94-2.06-.94L8.5 2.5l-.94 2.06-2.06.94zm10 10l.94 2.06.94-2.06 2.06-.94-2.06-.94-.94-2.06-.94 2.06-2.06.94z\"/><path d=\"M17.41 7.96l-1.37-1.37c-.4-.4-.92-.59-1.43-.59-.52 0-1.04.2-1.43.59L10.3 9.45l-7.72 7.72c-.78.78-.78 2.05 0 2.83L4 21.41c.39.39.9.59 1.41.59.51 0 1.02-.2 1.41-.59l7.78-7.78 2.81-2.81c.8-.78.8-2.07 0-2.86zM5.41 20L4 18.59l7.72-7.72 1.47 1.35L5.41 20z\"/>\n",
              "  </svg>\n",
              "      </button>\n",
              "      \n",
              "  <style>\n",
              "    .colab-df-container {\n",
              "      display:flex;\n",
              "      flex-wrap:wrap;\n",
              "      gap: 12px;\n",
              "    }\n",
              "\n",
              "    .colab-df-convert {\n",
              "      background-color: #E8F0FE;\n",
              "      border: none;\n",
              "      border-radius: 50%;\n",
              "      cursor: pointer;\n",
              "      display: none;\n",
              "      fill: #1967D2;\n",
              "      height: 32px;\n",
              "      padding: 0 0 0 0;\n",
              "      width: 32px;\n",
              "    }\n",
              "\n",
              "    .colab-df-convert:hover {\n",
              "      background-color: #E2EBFA;\n",
              "      box-shadow: 0px 1px 2px rgba(60, 64, 67, 0.3), 0px 1px 3px 1px rgba(60, 64, 67, 0.15);\n",
              "      fill: #174EA6;\n",
              "    }\n",
              "\n",
              "    [theme=dark] .colab-df-convert {\n",
              "      background-color: #3B4455;\n",
              "      fill: #D2E3FC;\n",
              "    }\n",
              "\n",
              "    [theme=dark] .colab-df-convert:hover {\n",
              "      background-color: #434B5C;\n",
              "      box-shadow: 0px 1px 3px 1px rgba(0, 0, 0, 0.15);\n",
              "      filter: drop-shadow(0px 1px 2px rgba(0, 0, 0, 0.3));\n",
              "      fill: #FFFFFF;\n",
              "    }\n",
              "  </style>\n",
              "\n",
              "      <script>\n",
              "        const buttonEl =\n",
              "          document.querySelector('#df-f9222bcd-139b-4116-a584-5397d1a2a4fd button.colab-df-convert');\n",
              "        buttonEl.style.display =\n",
              "          google.colab.kernel.accessAllowed ? 'block' : 'none';\n",
              "\n",
              "        async function convertToInteractive(key) {\n",
              "          const element = document.querySelector('#df-f9222bcd-139b-4116-a584-5397d1a2a4fd');\n",
              "          const dataTable =\n",
              "            await google.colab.kernel.invokeFunction('convertToInteractive',\n",
              "                                                     [key], {});\n",
              "          if (!dataTable) return;\n",
              "\n",
              "          const docLinkHtml = 'Like what you see? Visit the ' +\n",
              "            '<a target=\"_blank\" href=https://colab.research.google.com/notebooks/data_table.ipynb>data table notebook</a>'\n",
              "            + ' to learn more about interactive tables.';\n",
              "          element.innerHTML = '';\n",
              "          dataTable['output_type'] = 'display_data';\n",
              "          await google.colab.output.renderOutput(dataTable, element);\n",
              "          const docLink = document.createElement('div');\n",
              "          docLink.innerHTML = docLinkHtml;\n",
              "          element.appendChild(docLink);\n",
              "        }\n",
              "      </script>\n",
              "    </div>\n",
              "  </div>\n",
              "  "
            ]
          },
          "metadata": {},
          "execution_count": 29
        }
      ]
    },
    {
      "cell_type": "markdown",
      "source": [
        "**Plotando o grafico com os dados de leitura de potencia dos aparelhos que estão na bancada de trabalho denominada como Desktop**"
      ],
      "metadata": {
        "id": "UJW8PPlrlP53"
      }
    },
    {
      "cell_type": "code",
      "source": [
        "x = []\n",
        "y = []\n",
        "with open('sample_data/ENERGIA.csv','r') as csvfile:\n",
        "    lines = csv.reader(csvfile, delimiter=';')\n",
        "    for row in lines:\n",
        "        x.append(row[3])\n",
        "        y.append((row[4]))\n",
        "  \n",
        "plt.plot(x, y, color = 'g', linestyle = 'solid',\n",
        "         marker = '.',label = \"Leitura Potencia: Desktop\")\n",
        "\n",
        "plt.xticks(rotation = 30)\n",
        "plt.xlabel('Potencia')\n",
        "plt.ylabel('Data_Hora')\n",
        "plt.title('Leitura Potencia: Desktop', fontsize = 20)\n",
        "plt.grid(c='gray', alpha=0.9, linestyle='--')\n",
        "plt.legend()\n",
        "plt.figure(figsize=(20,20))\n",
        "plt.show()"
      ],
      "metadata": {
        "colab": {
          "base_uri": "https://localhost:8080/",
          "height": 330
        },
        "id": "iLyRzkesbAzo",
        "outputId": "c4614083-ea60-4471-ddc0-f8b2a7b3a39b"
      },
      "execution_count": null,
      "outputs": [
        {
          "output_type": "display_data",
          "data": {
            "text/plain": [
              "<Figure size 432x288 with 1 Axes>"
            ],
            "image/png": "[encoded data removed]"
          },
          "metadata": {
            "needs_background": "light"
          }
        },
        {
          "output_type": "display_data",
          "data": {
            "text/plain": [
              "<Figure size 1440x1440 with 0 Axes>"
            ]
          },
          "metadata": {}
        }
      ]
    },
    {
      "cell_type": "markdown",
      "source": [
        "Os dados de cálculo e valores foram consultados na [CPFL](https://www.cpfl.com.br/) (Companhia Piratininga de Força e Luz) com atuação em 4 estados, na distribuição de energia: São Paulo, Rio Grande do Sul, Paraná e Minas Gerais."
      ],
      "metadata": {
        "id": "ahvT9qDRs8pZ"
      }
    },
    {
      "cell_type": "markdown",
      "source": [
        "### ⛳ **Entendendo as bandeiras tarifárias**\n",
        "\n",
        "*   Bandeira **verde** : A tarifa não tem acréscimo.\n",
        "\n",
        "*   Bandeira **amarela**: A tarifa tem um acréscimo de R$ 1,34 a cada 100 kWh consumidos.\n",
        "\n",
        "*   Bandeira **vermelha Patamar 1**: A tarifa tem um acréscimo de R$ 4,16 a cada 100 kWh consumidos.\n",
        "\n",
        "*   Bandeira **vermelha Patamar 2**: A tarifa tem um acréscimo de R$ 9,49 a cada 100 kWh consumidos.\n",
        "\n",
        "*   Bandeira **escassez hídrica**: Tarifa tem um acréscimo de 14,20 a cada 100Kwh consumidos (exceto para clientes baixa renda).\n",
        "\n",
        "\n",
        "> \n",
        "\n",
        "\n",
        "\n",
        "Fonte consulta: https://www.cpfl.com.br/ajuda#cpfl_ca_1891\n",
        "\n",
        "\n",
        "---\n",
        "\n"
      ],
      "metadata": {
        "id": "9nhYRJsC7HoG"
      }
    },
    {
      "cell_type": "markdown",
      "source": [
        "### 💸 **Como o valor da conta de luz é calculada:**\n",
        "\n",
        "***Tributos***\n",
        "- PIS - Programa de Integração Social\n",
        "- COFINS - Contribuição para o Financiamento da Seguridade Social\n",
        "- ICMS - Imposto sobre Circulação de Mercadorias e Serviços\n",
        "- CIP - Contribuição para Custeio do Serviço de Iluminação Pública\n",
        "\n",
        "\n",
        "\n",
        "***Alíquotas***\n",
        "\n",
        "ICMS\n",
        "- 0%  caso o consumo de energia seja de até 90 kWh.\n",
        "- 12% caso o consumo de energia seja entre 91 kWh e 200 kWh.\n",
        "- 25% caso o consumo de energia seja acima de 200 kWh.\n",
        "\n",
        "PIS - 0,96%\n",
        "\n",
        "COFINS - 4,46%\n",
        "\n",
        "CIP - contribuição e a fórmula de cálculo são disciplinadas por Lei Municipal \n",
        "\n",
        "\n",
        "\n",
        "\n",
        "\n",
        "Fonte consulta:https://servicosonline.cpfl.com.br/agenciacontingencia/tributos.aspx\n",
        "\n",
        "\n",
        "\n",
        "---\n",
        "\n"
      ],
      "metadata": {
        "id": "_f_saMwrqmj5"
      }
    },
    {
      "cell_type": "markdown",
      "source": [
        "Com base na medição do aparelho Desktop, será realizado uma simulação de cálculo de consumo em reais de acordo com os dados da distribuidora de energia.\n",
        "\n",
        "\n",
        "![111.JPG](data:image/jpeg;base64,/9j/4AAQSkZJRgABAQEAYABgAAD/4RDmRXhpZgAATU0AKgAAAAgABAE7AAIAAAAJAAAISodpAAQAAAABAAAIVJydAAEAAAASAAAQzOocAAcAAAgMAAAAPgAAAAAc6gAAAAgAAAAAAAAAAAAAAAAAAAAAAAAAAAAAAAAAAAAAAAAAAAAAAAAAAAAAAAAAAAAAAAAAAAAAAAAAAAAAAAAAAAAAAAAAAAAAAAAAAAAAAAAAAAAAAAAAAAAAAAAAAAAAAAAAAAAAAAAAAAAAAAAAAAAAAAAAAAAAAAAAAAAAAAAAAAAAAAAAAAAAAAAAAAAAAAAAAAAAAAAAAAAAAAAAAAAAAAAAAAAAAAAAAAAAAAAAAAAAAAAAAAAAAAAAAAAAAAAAAAAAAAAAAAAAAAAAAAAAAAAAAAAAAAAAAAAAAAAAAAAAAAAAAAAAAAAAAAAAAAAAAAAAAAAAAAAAAAAAAAAAAAAAAAAAAAAAAAAAAAAAAAAAAAAAAAAAAAAAAAAAAAAAAAAAAAAAAAAAAAAAAAAAAAAAAAAAAAAAAAAAAAAAAAAAAAAAAAAAAAAAAAAAAAAAAAAAAAAAAAAAAAAAAAAAAAAAAAAAAAAAAAAAAAAAAAAAAAAAAAAAAAAAAAAAAAAAAAAAAAAAAAAAAAAAAAAAAAAAAAAAAAAAAAAAAAAAAAAAAAAAAAAAAAAAAAAAAAAAAAAAAAAAAAAAAAAAAAAAAAAAAAAAAAAAAAAAAAAAAAAAAAAAAAAAAAAAAAAAAAAAAAAAAAAAAAAAAAAAAAAAAAAAAAAAAAAAAAAAAAAAAAAAAAAAAAAAAAAAAAAAAAAAAAAAAAAAAAAAAAAAAAAAAAAAAAAAAAAAAAAAAAAAAAAAAAAAAAAAAAAAAAAAAAAAAAAAAAAAAAAAAAAAAAAAAAAAAAAAAAAAAAAAAAAAAAAAAAAAAAAAAAAAAAAAAAAAAAAAAAAAAAAAAAAAAAAAAAAAAAAAAAAAAAAAAAAAAAAAAAAAAAAAAAAAAAAAAAAAAAAAAAAAAAAAAAAAAAAAAAAAAAAAAAAAAAAAAAAAAAAAAAAAAAAAAAAAAAAAAAAAAAAAAAAAAAAAAAAAAAAAAAAAAAAAAAAAAAAAAAAAAAAAAAAAAAAAAAAAAAAAAAAAAAAAAAAAAAAAAAAAAAAAAAAAAAAAAAAAAAAAAAAAAAAAAAAAAAAAAAAAAAAAAAAAAAAAAAAAAAAAAAAAAAAAAAAAAAAAAAAAAAAAAAAAAAAAAAAAAAAAAAAAAAAAAAAAAAAAAAAAAAAAAAAAAAAAAAAAAAAAAAAAAAAAAAAAAAAAAAAAAAAAAAAAAAAAAAAAAAAAAAAAAAAAAAAAAAAAAAAAAAAAAAAAAAAAAAAAAAAAAAAAAAAAAAAAAAAAAAAAAAAAAAAAAAAAAAAAAAAAAAAAAAAAAAAAAAAAAAAAAAAAAAAAAAAAAAAAAAAAAAAAAAAAAAAAAAAAAAAAAAAAAAAAAAAAAAAAAAAAAAAAAAAAAAAAAAAAAAAAAAAAAAAAAAAAAAAAAAAAAAAAAAAAAAAAAAAAAAAAAAAAAAAAAAAAAAAAAAAAAAAAAAAAAAAAAAAAAAAAAAAAAAAAAAAAAAAAAAAAAAAAAAAAAAAAAAAAAAAAAAAAAAAAAAAAAAAAAAAAAAAAAAAAAAAAAAAAAAAAAAAAAAAAAAAAAAAAAAAAAAAAAAAAAAAAAAAAAAAAAAAAAAAAAAAAAAAAAAAAAAAAAAAAAAAAAAAAAAAAAAAAAAAAAAAAAAAAAAAAAAAAAAAAAAAAAAAAAAAAAAAAAAAAAAAAAAAAAAAAAAAAAAAAAAAAAAAAAAAAAAAAAAAAAAAAAAAAAAAAAAAAAAAAAAAAAAAAAAAAAAAAAAAAAAAAAAAAAAAAAAAAAAAAAAAAAAAAAAAAAAAAAAAAAAAAAAAAAAAAAAAAAAAAAAAAAAAAAAAAAAAAAAAAAAAAAAAAAAAAAAAAAAAAAAAAAAAAAAAAAAAAAAAAAAAAAAAAAAAAAAAAAAAAAAAAAAAAAAAAAAAAAAAAAAAAAAAAAAAAAAAAAAAAAAAAAAAAAAAAAAAAAAAAAAAAAAAAAAAAAAAAAAAAAAAAAAAAAAAAAAAAAAAAAAAAAAAAAAAAAAAAAAAAAAAAAAAAAAAAAAAAAAAAAAAAAAAAAAAAAAAAAAAAAAAAAAAAAAAAAAAAAAAAAAAAAAAAAAAAAAAAAAAAAAAAAAAAAAAAAAAAAAAAAAAAAAAAAAAAAAAAAAAAAAAAAAAAAAAAAAAAAAAAAAAAAAAAAAAAAAAAAAAAAAAAAAAAAAAAAAAAAAAAAAAAAAAAAAAAAAAAAAAAAAAAAAAAAAAAAAAAAAAAAAAAAAAAAAAAAAAAAAAAAAAAAAAAAAAAAAAAAAAAAAAAAAAAAAAAAAAAAAAAAAAAAAAAAAAAAAAAAAAAAAAAAAAAAAAAAAAAAAAAAAAAAAAAAAAAAAAAAAAAAAAAAAAAAAAAAAAAAAAAAAAAAAAAAAAAAAAAAAAAAAAAAAAAAAAAAAAAAAAAAAAAAAAAAAAAAAAAAAAAAAAAAAAAAAAAAAAAAAAAAAAAAAAAAAAAAAAAAAAAAAAAAAAAAAAAAAAAAAAAAAAAAAAAAAAAAAAAAAAAAAAAAAAAAAAAAAAAAAAAAAAAAAAAAAAAAAAAAAAAAAAAAAAAAAAAAAAAAAAAAAAAAAAAAAAAAAAAAAAAAAAAAAAAAAAAAAAAAAAAAAAAAAAAAAAAAAAAAAAAAAAAAAAAAAAAAAAAAAAAAAAAAAAAAAAAAAAAAAAAAAAAAAAAAAAAAAAAAAAAAAAAAAAAAAAAAAAAAAAAAAAAAAAAAEdyYWNpZWxlAAAABZADAAIAAAAUAAAQopAEAAIAAAAUAAAQtpKRAAIAAAADOTUAAJKSAAIAAAADOTUAAOocAAcAAAgMAAAIlgAAAAAc6gAAAAgAAAAAAAAAAAAAAAAAAAAAAAAAAAAAAAAAAAAAAAAAAAAAAAAAAAAAAAAAAAAAAAAAAAAAAAAAAAAAAAAAAAAAAAAAAAAAAAAAAAAAAAAAAAAAAAAAAAAAAAAAAAAAAAAAAAAAAAAAAAAAAAAAAAAAAAAAAAAAAAAAAAAAAAAAAAAAAAAAAAAAAAAAAAAAAAAAAAAAAAAAAAAAAAAAAAAAAAAAAAAAAAAAAAAAAAAAAAAAAAAAAAAAAAAAAAAAAAAAAAAAAAAAAAAAAAAAAAAAAAAAAAAAAAAAAAAAAAAAAAAAAAAAAAAAAAAAAAAAAAAAAAAAAAAAAAAAAAAAAAAAAAAAAAAAAAAAAAAAAAAAAAAAAAAAAAAAAAAAAAAAAAAAAAAAAAAAAAAAAAAAAAAAAAAAAAAAAAAAAAAAAAAAAAAAAAAAAAAAAAAAAAAAAAAAAAAAAAAAAAAAAAAAAAAAAAAAAAAAAAAAAAAAAAAAAAAAAAAAAAAAAAAAAAAAAAAAAAAAAAAAAAAAAAAAAAAAAAAAAAAAAAAAAAAAAAAAAAAAAAAAAAAAAAAAAAAAAAAAAAAAAAAAAAAAAAAAAAAAAAAAAAAAAAAAAAAAAAAAAAAAAAAAAAAAAAAAAAAAAAAAAAAAAAAAAAAAAAAAAAAAAAAAAAAAAAAAAAAAAAAAAAAAAAAAAAAAAAAAAAAAAAAAAAAAAAAAAAAAAAAAAAAAAAAAAAAAAAAAAAAAAAAAAAAAAAAAAAAAAAAAAAAAAAAAAAAAAAAAAAAAAAAAAAAAAAAAAAAAAAAAAAAAAAAAAAAAAAAAAAAAAAAAAAAAAAAAAAAAAAAAAAAAAAAAAAAAAAAAAAAAAAAAAAAAAAAAAAAAAAAAAAAAAAAAAAAAAAAAAAAAAAAAAAAAAAAAAAAAAAAAAAAAAAAAAAAAAAAAAAAAAAAAAAAAAAAAAAAAAAAAAAAAAAAAAAAAAAAAAAAAAAAAAAAAAAAAAAAAAAAAAAAAAAAAAAAAAAAAAAAAAAAAAAAAAAAAAAAAAAAAAAAAAAAAAAAAAAAAAAAAAAAAAAAAAAAAAAAAAAAAAAAAAAAAAAAAAAAAAAAAAAAAAAAAAAAAAAAAAAAAAAAAAAAAAAAAAAAAAAAAAAAAAAAAAAAAAAAAAAAAAAAAAAAAAAAAAAAAAAAAAAAAAAAAAAAAAAAAAAAAAAAAAAAAAAAAAAAAAAAAAAAAAAAAAAAAAAAAAAAAAAAAAAAAAAAAAAAAAAAAAAAAAAAAAAAAAAAAAAAAAAAAAAAAAAAAAAAAAAAAAAAAAAAAAAAAAAAAAAAAAAAAAAAAAAAAAAAAAAAAAAAAAAAAAAAAAAAAAAAAAAAAAAAAAAAAAAAAAAAAAAAAAAAAAAAAAAAAAAAAAAAAAAAAAAAAAAAAAAAAAAAAAAAAAAAAAAAAAAAAAAAAAAAAAAAAAAAAAAAAAAAAAAAAAAAAAAAAAAAAAAAAAAAAAAAAAAAAAAAAAAAAAAAAAAAAAAAAAAAAAAAAAAAAAAAAAAAAAAAAAAAAAAAAAAAAAAAAAAAAAAAAAAAAAAAAAAAAAAAAAAAAAAAAAAAAAAAAAAAAAAAAAAAAAAAAAAAAAAAAAAAAAAAAAAAAAAAAAAAAAAAAAAAAAAAAAAAAAAAAAAAAAAAAAAAAAAAAAAAAAAAAAAAAAAAAAAAAAAAAAAAAAAAAAAAAAAAAAAAAAAAAAAAAAAAAAAAAAAAAAAAAAAAAAAAAAAAAAAAAAAAAAAAAAAAAAAAAAAAAAAAAAAAAAAAAAAAAAAAAAAAAAAAAAAAAAAAAAAAAAAAAAAAAAAAAAAAAAAAAAAAAAAAAAAAAAAAAAAAAAAAAAAAAAAAAAAAAAAAAAAAAAAAAAAAAAAAAAAAAAAAAAAAAAAAAAAAAAAAAAAAAAAAAAAAAAAAAAAAAAAAAAAAAAAAAAAAAAAAAAAAAAAAAAAAAAAAAAAAAAAAAAAAAAAAAAAAAAAAAAAAAAAAAAAAAAAAAAAAAAAAAAAAAAAAAAAAAAAAAAAAAAAAAAAAAAAAAAAAAAAAAAAAAAAAAAAAAAAAAAAAAAAAAAAAAAAAAAAAAAAAAAAAAAAAAAAAAAAAAAAAAAAAAAAAAAAAAAAAAAAAAAAAAAAAAAAAAAAAAAAAAAAAAAAAAAAAAAAAAAAAAAAAAAAAAAAAAAAAAAAAAAAAAAAAAAAAAAAAAAAAAAAAAAAAAAAAAAAAAAAAAAAAAAAAAAAAAAAAAAAAAAAAAAAAAAAAAAAAAAAAAAAAAAAAAAAAAAAAAAAAAAAAAAAAAAAAAAAAAAAAAAAAAAAAAAAAAAAAAAAAAAAAAAAAAAAAAAAAAAAAAAAAAAAAAAAAAAAAAAAAAAAAAAAAAAAAAAAAAAAAAAAAAAAAAAAAAAAAAAAAAAAAAAAAAAAAAAAAAAAAAAAAAAAAAAAAAAAAAAAAAAAAAAAAAAAAAAAAAAAAAAAAAAAAAAAAAAAAAAAAAAAAAAAAAAAAAAAAAAAAAAAAAAAAAAAAAAAAAAAAAAAAAAAAAAAAAAAAAAAAAAAAAAAAAAAAAAAAAAAAAAAAAAAAAAAAAAAAAAAAAAAAAAAAAAAAAAAAAAAAAAAAAAAAAAAAAAAAAAAAAAAAAAAAAAAAAAAAAAAAAAAAAAAAAAAAAAAAAAAAAAAAAAAAAAAAAAAAAAAAAAAAAAAAAAAAAAAAAAAAAAAAAAAAAAAAAADIwMjI6MDc6MDEgMjM6MTM6MDMAMjAyMjowNzowMSAyMzoxMzowMwAAAEcAcgBhAGMAaQBlAGwAZQAAAP/hCxtodHRwOi8vbnMuYWRvYmUuY29tL3hhcC8xLjAvADw/eHBhY2tldCBiZWdpbj0n77u/JyBpZD0nVzVNME1wQ2VoaUh6cmVTek5UY3prYzlkJz8+DQo8eDp4bXBtZXRhIHhtbG5zOng9ImFkb2JlOm5zOm1ldGEvIj48cmRmOlJERiB4bWxuczpyZGY9Imh0dHA6Ly93d3cudzMub3JnLzE5OTkvMDIvMjItcmRmLXN5bnRheC1ucyMiPjxyZGY6RGVzY3JpcHRpb24gcmRmOmFib3V0PSJ1dWlkOmZhZjViZGQ1LWJhM2QtMTFkYS1hZDMxLWQzM2Q3NTE4MmYxYiIgeG1sbnM6ZGM9Imh0dHA6Ly9wdXJsLm9yZy9kYy9lbGVtZW50cy8xLjEvIi8+PHJkZjpEZXNjcmlwdGlvbiByZGY6YWJvdXQ9InV1aWQ6ZmFmNWJkZDUtYmEzZC0xMWRhLWFkMzEtZDMzZDc1MTgyZjFiIiB4bWxuczp4bXA9Imh0dHA6Ly9ucy5hZG9iZS5jb20veGFwLzEuMC8iPjx4bXA6Q3JlYXRlRGF0ZT4yMDIyLTA3LTAxVDIzOjEzOjAzLjk1MDwveG1wOkNyZWF0ZURhdGU+PC9yZGY6RGVzY3JpcHRpb24+PHJkZjpEZXNjcmlwdGlvbiByZGY6YWJvdXQ9InV1aWQ6ZmFmNWJkZDUtYmEzZC0xMWRhLWFkMzEtZDMzZDc1MTgyZjFiIiB4bWxuczpkYz0iaHR0cDovL3B1cmwub3JnL2RjL2VsZW1lbnRzLzEuMS8iPjxkYzpjcmVhdG9yPjxyZGY6U2VxIHhtbG5zOnJkZj0iaHR0cDovL3d3dy53My5vcmcvMTk5OS8wMi8yMi1yZGYtc3ludGF4LW5zIyI+PHJkZjpsaT5HcmFjaWVsZTwvcmRmOmxpPjwvcmRmOlNlcT4NCgkJCTwvZGM6Y3JlYXRvcj48L3JkZjpEZXNjcmlwdGlvbj48L3JkZjpSREY+PC94OnhtcG1ldGE+DQogICAgICAgICAgICAgICAgICAgICAgICAgICAgICAgICAgICAgICAgICAgICAgICAgICAgICAgICAgICAgICAgICAgICAgICAgICAgICAgICAgICAgICAgICAgICAgICAgICAgCiAgICAgICAgICAgICAgICAgICAgICAgICAgICAgICAgICAgICAgICAgICAgICAgICAgICAgICAgICAgICAgICAgICAgICAgICAgICAgICAgICAgICAgICAgICAgICAgICAgICAKICAgICAgICAgICAgICAgICAgICAgICAgICAgICAgICAgICAgICAgICAgICAgICAgICAgICAgICAgICAgICAgICAgICAgICAgICAgICAgICAgICAgICAgICAgICAgICAgICAgIAogICAgICAgICAgICAgICAgICAgICAgICAgICAgICAgICAgICAgICAgICAgICAgICAgICAgICAgICAgICAgICAgICAgICAgICAgICAgICAgICAgICAgICAgICAgICAgICAgICAgCiAgICAgICAgICAgICAgICAgICAgICAgICAgICAgICAgICAgICAgICAgICAgICAgICAgICAgICAgICAgICAgICAgICAgICAgICAgICAgICAgICAgICAgICAgICAgICAgICAgICAKICAgICAgICAgICAgICAgICAgICAgICAgICAgICAgICAgICAgICAgICAgICAgICAgICAgICAgICAgICAgICAgICAgICAgICAgICAgICAgICAgICAgICAgICAgICAgICAgICAgIAogICAgICAgICAgICAgICAgICAgICAgICAgICAgICAgICAgICAgICAgICAgICAgICAgICAgICAgICAgICAgICAgICAgICAgICAgICAgICAgICAgICAgICAgICAgICAgICAgICAgCiAgICAgICAgICAgICAgICAgICAgICAgICAgICAgICAgICAgICAgICAgICAgICAgICAgICAgICAgICAgICAgICAgICAgICAgICAgICAgICAgICAgICAgICAgICAgICAgICAgICAKICAgICAgICAgICAgICAgICAgICAgICAgICAgICAgICAgICAgICAgICAgICAgICAgICAgICAgICAgICAgICAgICAgICAgICAgICAgICAgICAgICAgICAgICAgICAgICAgICAgIAogICAgICAgICAgICAgICAgICAgICAgICAgICAgICAgICAgICAgICAgICAgICAgICAgICAgICAgICAgICAgICAgICAgICAgICAgICAgICAgICAgICAgICAgICAgICAgICAgICAgCiAgICAgICAgICAgICAgICAgICAgICAgICAgICAgICAgICAgICAgICAgICAgICAgICAgICAgICAgICAgICAgICAgICAgICAgICAgICAgICAgICAgICAgICAgICAgICAgICAgICAKICAgICAgICAgICAgICAgICAgICAgICAgICAgICAgICAgICAgICAgICAgICAgICAgICAgICAgICAgICAgICAgICAgICAgICAgICAgICAgICAgICAgICAgICAgICAgICAgICAgIAogICAgICAgICAgICAgICAgICAgICAgICAgICAgICAgICAgICAgICAgICAgICAgICAgICAgICAgICAgICAgICAgICAgICAgICAgICAgICAgICAgICAgICAgICAgICAgICAgICAgCiAgICAgICAgICAgICAgICAgICAgICAgICAgICAgICAgICAgICAgICAgICAgICAgICAgICAgICAgICAgICAgICAgICAgICAgICAgICAgICAgICAgICAgICAgICAgICAgICAgICAKICAgICAgICAgICAgICAgICAgICAgICAgICAgICAgICAgICAgICAgICAgICAgICAgICAgICAgICAgICAgICAgICAgICAgICAgICAgICAgICAgICAgICAgICAgICAgICAgICAgIAogICAgICAgICAgICAgICAgICAgICAgICAgICAgICAgICAgICAgICAgICAgICAgICAgICAgICAgICAgICAgICAgICAgICAgICAgICAgICAgICAgICAgICAgICAgICAgICAgICAgCiAgICAgICAgICAgICAgICAgICAgICAgICAgICAgICAgICAgICAgICAgICAgICAgICAgICAgICAgICAgICAgICAgICAgICAgICAgICAgICAgICAgICAgICAgICAgICAgICAgICAKICAgICAgICAgICAgICAgICAgICAgICAgICAgICAgICAgICAgICAgICAgICAgICAgICAgICAgICAgICAgICAgICAgICAgICAgICAgICAgICAgICAgICAgICAgICAgICAgICAgIAogICAgICAgICAgICAgICAgICAgICAgICAgICAgICAgICAgICAgICAgICAgICAgICAgICAgICAgICAgICAgICAgICAgICAgICAgICAgICAgICAgICAgICAgICAgICAgICAgICAgCiAgICAgICAgICAgICAgICAgICAgICAgICAgICAgICAgICAgICAgICAgICAgICAgICAgICAgICAgICAgICAgICAgICAgICAgICAgICAgICAgICAgICAgICAgICAgICAgICAgICAKICAgICAgICAgICAgICAgICAgICAgICAgICAgIDw/eHBhY2tldCBlbmQ9J3cnPz7/2wBDAAcFBQYFBAcGBQYIBwcIChELCgkJChUPEAwRGBUaGRgVGBcbHichGx0lHRcYIi4iJSgpKywrGiAvMy8qMicqKyr/2wBDAQcICAoJChQLCxQqHBgcKioqKioqKioqKioqKioqKioqKioqKioqKioqKioqKioqKioqKioqKioqKioqKioqKir/wAARCAAnAOUDASIAAhEBAxEB/8QAHwAAAQUBAQEBAQEAAAAAAAAAAAECAwQFBgcICQoL/8QAtRAAAgEDAwIEAwUFBAQAAAF9AQIDAAQRBRIhMUEGE1FhByJxFDKBkaEII0KxwRVS0fAkM2JyggkKFhcYGRolJicoKSo0NTY3ODk6Q0RFRkdISUpTVFVWV1hZWmNkZWZnaGlqc3R1dnd4eXqDhIWGh4iJipKTlJWWl5iZmqKjpKWmp6ipqrKztLW2t7i5usLDxMXGx8jJytLT1NXW19jZ2uHi4+Tl5ufo6erx8vP09fb3+Pn6/8QAHwEAAwEBAQEBAQEBAQAAAAAAAAECAwQFBgcICQoL/8QAtREAAgECBAQDBAcFBAQAAQJ3AAECAxEEBSExBhJBUQdhcRMiMoEIFEKRobHBCSMzUvAVYnLRChYkNOEl8RcYGRomJygpKjU2Nzg5OkNERUZHSElKU1RVVldYWVpjZGVmZ2hpanN0dXZ3eHl6goOEhYaHiImKkpOUlZaXmJmaoqOkpaanqKmqsrO0tba3uLm6wsPExcbHyMnK0tPU1dbX2Nna4uPk5ebn6Onq8vP09fb3+Pn6/9oADAMBAAIRAxEAPwD6RqKW6ggkijnnjjeZtsSu4Bc4zgA9T9KlrnvG9rJL4ba8th/pOmypew49UOSP++c0bBubiXUElzJbpPG08QBkiDgsgPQkdRml+0wfavs3nR/aNnmeVvG/bnG7HXGeM15qdQ8yzGryzPYpr187C6edoUihjQrGHKEMSQCQoZcnHPY19M1LVZ7eK+tZJLnUx4dk2ORudmWcjOO7YHfqaPX+tGx77f1rY9WorzHUdSnSzvBoOrXlxp3k2ha6+1PI0c7TAMockkEoclc4HoM11XivztK8IlbCa6jjSWMTTiZ3ljhLje29iW4Gec8D6U/87Ep3OgiuYJpJY4Zo5HhbbIqOCUOM4I7HHNSV5fHqEFqdXWyvX+yXOrRRC9a8ZURfJBDPKDuZcgdGBbj5sHnd8O3E2rfDK5+03Mt2+y5jEu5g7AFgvOd3THU59alv3W/L9F/mUlrbz/z/AMjsY5EmiWSF1kjcZVlOQw9QaSeeK2gea5lSKKMbnkkYKqj1JPSvIrvWxa+FLGHTtUktWttKimST7bIfMlJw0aIpGWBHO4kKONg5Nbt5c3Utv4uvft94JLOBDbCO6dUjLQAkhQQOvPt1GKctE32EtWl3O6TUrGS8+xx3tu1yU3+Qsql9vrtznHvVmvLjcf2fqXiK7Elzvc2Eby/bHjVBIo3M7c4XPccgEhSua6TwNfTXeh6mJL83y297NHDPuY5TAIwWLNjnjJJx3oel/L+v1EtbeZ1tMnnitoHmuZUiijG55JGCqo9ST0ry/SNSvLjT9O/s3U767vptOujfRtcvIYyF/dttJ+Q7sAEYznvnNFxrLanpN7HHqD3Ua+F1aVfNLKJs/MTz9/170S0T/rv/AJFLW39dv8z06a7t7e3E89xFFCcYkdwFOeByeOcilhuYLjzPs80cvlOY5NjhtjDqpx0PtXlmoXfm2NzDp17PeacLeyaUyzNKIrjz1yoLfdO3kqOnoOlap1O586db++uItM/t6aG5nFw0flRhBsXeCCi7sdCPTvTa1/rul+pKel/62bPQqjnuYLWMSXU0cKFgoaRwoyTgDJ7k8V5p4m1sQ6bFFp2s3qJFYNPbXlzcSI1yd5AVVUIZG4HzMSNvO053VFrF+1291/al9OLsXtkbW2MpWN4SUO8Rjg5bOWxwQBkdKS1f9d7Dei/rtc9Uorzk65cSePrVY7+SAtqUlrLZPcO7MgU4YpkIin5dvyknk7jWh4qvYofFaQ6hql1YWf8AZUsn7m5eEeYHAU5U9fT14HOcUr6J/wBbXHbW39b2O2qOG5guGkEE0cpicxyBHB2N/dOOh5HFeXy6r4gd7dNQvDY3ZsrVrTzbmWIySFvmPlIjeaxOAVI4B6VYn1A2k+pwSXLWUdzrkwe6Nw0Uce2FT8xTDNnnChlyQOe1N6X+f4NIS1/ryuemVWi1GyntZLmG8t5LeIsJJUlUomOuTnAx3rkrHxBc23wlh1KaZ7i+eEwxMxyzylyiZ9TnGe/FYtlE/h7Tdc0SazuLOO70hriFZ2Q7pUi2SkbGYc/K3X1olpfy/r8hrWx6R/aNliE/bLfFwhkhPmr+8UDJZeeQBzkVWt/EOi3k3lWmr2E8mC2yK5RjgDJOAewrzXTIbzTtW0XTbjdJarp1xc2kzf3JIASn/AWB/Ait/wALaosnhG2tG1zSpiNOIWyiXE6kJ0J8w5I5z8o/CiWifl/wf8hR1t5/8D/M6y11/R76cQWWrWNxKQSI4rlHYgcngGrlvcQ3Vuk9rNHNC4yskbBlYexHWuN8Faosnh/T7Rtc0qYizAWyiXE6kL0J8w5I5z8o/CrXgDVtOk8J6XYR6hateLCc26zKZBgkn5c56U2tWv66iT0udZRRRSGFVb3T4dQVFne5QIcjyLqSE/iUYZ/GrVFAGT/wjdj/AM99T/8ABrdf/HKP+Ebsf+e+p/8Ag1uv/jla1FAGT/wjdj/z31P/AMGt1/8AHKydZbw/oVxaW97eaqbi8lWOGGPVLkscnG4/vOAM9fyzXWVz/izSZ9TtbL7DbrJNHfQSSNlVIjVsnk4yBnpR1QdGWv8AhG7H/nvqf/g1uv8A45WHe3Gi2bXCqNcuTBdx2Z8nVJ/mlcZCgtMBxkZzjGa6qNL0X0jTXFu1qR+7iWBldT7vvIPf+EVw50m+vIdQ0+33i5g8RLdswZAyRMQwkG7g4HTg9Onahb/13QdP67Mti70US+RcR69b3K3kVo8Empz7kaQZViVmIKnnkE9OlTk6Udak02GPX5zDKkM08Oo3DJCzLuG4CXcBj+LbgetO1LwrIklrPZvPfXUmqW9zdT3DoG2ICOgCjAHYDPNVdR0C/l8ZxanpdhPYXIuEE15FdIYLmDjd5iHDbuMYAxnnPcC3V/62/wCCD2dv63Nu40XSrSLzbu+v4I8hd8usXKjJOAMmTuaLrS9K0m1e/vLrUI4LceY7SalcuoA9VLnd9MHPSjxN4aj8SWKQPdTWzI6MGSR9uAwJBQMATx1PI7Uuu6EdR8K3GlWcrK7KDE9xK8nzKwYbmYliMjHfil01H1My2j0pLOOOfT9a0a0tbXfGWu5Y4xGMscmKUgNz0fDHpzjhls2lT3FolxD4gs477i1muNTnCTHGQPlmJUkcgMBnHrxV2/TVPEej3emXGkvpq3FqytNPcRtiQ9AqoWyuepO3jtVd7TVtYfRba70xrGPT50uLidpo2V2jBAWMKSTknOSFwB+FVu9f67k9P6+RFp5sNTVpbax8Q/ZVeRDctq0gUFCQePtG7qMdKhsNQ8O3+o2Fkk2tRS6hafaoPN1S4AK5I28Sn5uCcdOOtXfDfhyXT9Jna7W4jvHluCIvtjmMhmbadgbZyCO361gW/gnVJobMywi2urPSI0t5/MU+VdJKWA4J4wcE8jBqen9dn/wBvy8/zRqi60R9FsNRi/tyQahL5VtANUnEjtk8czBR90961bDR7C/sYrkf21b+YM+VcajdJInsVMnFYSeGbiX4e6XpGr6NJdyRlvNW3uY0mt2yxDoSdrHnpu79+ldD4f0+/TwrDZa9NNJc7WDv55EgXcdoLqc7gMAkH8T1qnuw7CW+i6Vdoz2t9fzKrlGMesXLAMOoOJOo9Ky5LnQA0reTqUl3bznS49t1L58zEiQqr+ZnHfczDABHA4rT8N+GYvDsdwEup7hppnky8r7VDNnG0sRkf3up71iL4e1S31abVYrXzJINYluo4PMUGeF4ghKnOA3cBiOlLr/Xl/wQ6P8Arv8A8ATU77SNG0t73U7TxJb7JlhMLahOWJYEggibYw4/hY471ObjQf8AhJbTREl1mS4uoBOki6nceWFIJAJ83IOF9PSpPEFlqniSytIn0hreKLU4JDHLPGztEM72YAlR16BmJ9KyPDfhLWdO1rTbvUIdzQTzJJJ5inbCsIji785wffnnFC8/60B+RpWU2lag8v2W38RSQoJSlwuo3BjlMZwVBE3yk9gwXNamn6TpWp6dBe2lzqbQ3EYdCdVuc4Pr+861iaVo13pPieTU4bKbR7Fkmk1GFrpJLeQj7rRgHcD1JLBcDgelbfgi2mtfBmnpcBldlaTa3VQ7FgPyIoW39eYPcsf8I3Y/899T/wDBrdf/AByj/hG7H/nvqf8A4Nbr/wCOVrUUAZP/AAjdj/z31P8A8Gt1/wDHKmtdEtbO5WeKW+Z1zgTahPKvIxyrOQfxFaFFABRRRQAUUUUAFFFFABRRRQAUUUUAFFFFABRRRQAUUUUAFFFFABRRRQAUUUUAFFFFABRRRQAUUUUAFFFFABRRRQB//9k=)\n",
        "\n",
        "***Exemplo para junho de 2022***\n",
        "\n",
        "* 1º passo: Incluir na tarifa fixada por kWh, os tributos PIS, COFINS e ICMS. \n",
        "\n",
        "  R$ 1,04 /1-(0.0096 + 0.0446 + 0.25)\n",
        "  \n",
        "   R$ 1,49 kWh\n",
        "\n",
        "* 2º passo:Multiplicar o valor do kWh com tributos inclusos pela quantidade kWh consumida (usaremos uma média).\n",
        "\n",
        "  R$ 1,49 X 128 = 190,72\n",
        "\n",
        "* 3º passo: Incluir ao valor calculado a Contribuição de Iluminação Pública (CIP).\n",
        "\n",
        "  R$ 190,72 + 2,80 = 193,52\n",
        "\n",
        " \n",
        "\n",
        " "
      ],
      "metadata": {
        "id": "ewaMtPRD3nop"
      }
    }
  ]
}